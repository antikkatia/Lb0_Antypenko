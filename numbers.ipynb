{
 "cells": [
  {
   "cell_type": "code",
   "execution_count": 4,
   "id": "4f43ca5a-9fbc-476f-b1e5-166da13833b3",
   "metadata": {},
   "outputs": [
    {
     "name": "stdin",
     "output_type": "stream",
     "text": [
      "Введіть початок відрізку (a):  к\n"
     ]
    },
    {
     "ename": "ValueError",
     "evalue": "invalid literal for int() with base 10: 'к'",
     "output_type": "error",
     "traceback": [
      "\u001b[1;31m---------------------------------------------------------------------------\u001b[0m",
      "\u001b[1;31mValueError\u001b[0m                                Traceback (most recent call last)",
      "Cell \u001b[1;32mIn[4], line 17\u001b[0m\n\u001b[0;32m     14\u001b[0m     \u001b[38;5;28;01mreturn\u001b[39;00m primes\n\u001b[0;32m     16\u001b[0m \u001b[38;5;66;03m# Приклад використання\u001b[39;00m\n\u001b[1;32m---> 17\u001b[0m a \u001b[38;5;241m=\u001b[39m \u001b[38;5;28mint\u001b[39m(\u001b[38;5;28minput\u001b[39m(\u001b[38;5;124m\"\u001b[39m\u001b[38;5;124mВведіть початок відрізку (a): \u001b[39m\u001b[38;5;124m\"\u001b[39m))\n\u001b[0;32m     18\u001b[0m b \u001b[38;5;241m=\u001b[39m \u001b[38;5;28mint\u001b[39m(\u001b[38;5;28minput\u001b[39m(\u001b[38;5;124m\"\u001b[39m\u001b[38;5;124mВведіть кінець відрізку (b): \u001b[39m\u001b[38;5;124m\"\u001b[39m))\n\u001b[0;32m     19\u001b[0m \u001b[38;5;28mprint\u001b[39m(\u001b[38;5;124m\"\u001b[39m\u001b[38;5;124mПрості числа на відрізку:\u001b[39m\u001b[38;5;124m\"\u001b[39m, find_primes_in_range(a, b))\n",
      "\u001b[1;31mValueError\u001b[0m: invalid literal for int() with base 10: 'к'"
     ]
    }
   ],
   "source": [
    "def find_primes_in_range(a, b):\n",
    "    \"\"\"Знаходить всі прості числа на відрізку [a, b].\"\"\"\n",
    "    if a > b:\n",
    "        return \"Помилка: a повинно бути меншим або рівним b\"\n",
    "    \n",
    "    primes = []\n",
    "    for num in range(a, b + 1):\n",
    "        if num > 1:  # Прості числа більше 1\n",
    "            for i in range(2, int(num ** 0.5) + 1):\n",
    "                if num % i == 0:\n",
    "                    break\n",
    "            else:\n",
    "                primes.append(num)\n",
    "    return primes\n",
    "\n",
    "# Приклад використання\n",
    "a = int(input(\"Введіть початок відрізку (a): \"))\n",
    "b = int(input(\"Введіть кінець відрізку (b): \"))\n",
    "print(\"Прості числа на відрізку:\", find_primes_in_range(a, b))\n"
   ]
  },
  {
   "cell_type": "code",
   "execution_count": null,
   "id": "f15cd4c0-b616-4beb-87f7-3939ec9b4b18",
   "metadata": {},
   "outputs": [],
   "source": []
  }
 ],
 "metadata": {
  "kernelspec": {
   "display_name": "Python 3 (ipykernel)",
   "language": "python",
   "name": "python3"
  },
  "language_info": {
   "codemirror_mode": {
    "name": "ipython",
    "version": 3
   },
   "file_extension": ".py",
   "mimetype": "text/x-python",
   "name": "python",
   "nbconvert_exporter": "python",
   "pygments_lexer": "ipython3",
   "version": "3.12.7"
  }
 },
 "nbformat": 4,
 "nbformat_minor": 5
}
